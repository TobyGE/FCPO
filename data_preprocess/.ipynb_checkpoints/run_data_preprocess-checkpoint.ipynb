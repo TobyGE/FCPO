{
 "cells": [
  {
   "cell_type": "code",
   "execution_count": 1,
   "metadata": {},
   "outputs": [],
   "source": [
    "import pandas as pd\n",
    "import numpy as np\n",
    "from multicore import *\n",
    "from data_preprocess import DataPreprocessor\n",
    "from data_util import *"
   ]
  },
  {
   "cell_type": "code",
   "execution_count": 2,
   "metadata": {},
   "outputs": [],
   "source": [
    "data_name = 'ciao'"
   ]
  },
  {
   "cell_type": "code",
   "execution_count": 3,
   "metadata": {},
   "outputs": [],
   "source": [
    "if data_name == 'ml-1m':\n",
    "    data_path = '../org_data/'+data_name+'/ratings.dat'\n",
    "    data = pd.read_csv(data_path, sep='::',\n",
    "                names=['userId', 'itemId', 'rating', 'timestamp'],\n",
    "                dtype={'userId':np.int32,'itemId':np.int32,'rating':np.float64,'timestamp':np.int32},\n",
    "                engine='python')\n",
    "if data_name == 'ml-20m':\n",
    "    data_path = '../org_data/'+data_name+'/ratings.csv'\n",
    "    data = pd.read_csv(data_path, sep=',',\n",
    "#                 names=['userId', 'itemId', 'rating', 'timestamp'],\n",
    "#                 dtype={'userId':np.int32,'itemId':np.int32,'rating':np.float64,'timestamp':np.int32},\n",
    "                engine='python')\n",
    "if data_name == 'ml-100k':\n",
    "    data_path = '../org_data/'+data_name+'/u.data'\n",
    "    data = pd.read_csv(data_path, sep='\\t',\n",
    "                names=['userId', 'itemId', 'rating', 'timestamp'],\n",
    "                dtype={'userId':np.int32,'itemId':np.int32,'rating':np.float64,'timestamp':np.int32},\n",
    "                engine='python')\n",
    "if data_name == 'cd':\n",
    "    data_path = '../org_data/'+data_name+'/cd.csv'\n",
    "    data = pd.read_csv(data_path, sep=',',\n",
    "                names=['userId', 'itemId', 'rating', 'timestamp'],\n",
    "                dtype={'userId':np.int32,'itemId':np.int32,'rating':np.float64,'timestamp':np.int32},\n",
    "                engine='python')\n",
    "if data_name == 'ciao' or data_name == 'epinions':\n",
    "    data_path = '../org_data/'+data_name+'/rating_with_timestamp.txt'\n",
    "    data = pd.read_csv(data_path, sep='  ',\n",
    "                names=['userId', 'itemId', 'category','rating', 'helpfulness','timestamp'],\n",
    "                dtype={'userId':np.int32,'category':np.int32,'itemId':np.int32,'rating':np.float64,'helpfulness':np.int32,'timestamp':np.int32},\n",
    "                engine='python')    \n"
   ]
  },
  {
   "cell_type": "code",
   "execution_count": 4,
   "metadata": {},
   "outputs": [],
   "source": [
    "data_ = data[['userId','itemId','rating','timestamp']]"
   ]
  },
  {
   "cell_type": "code",
   "execution_count": 5,
   "metadata": {},
   "outputs": [
    {
     "data": {
      "text/plain": [
       "36065"
      ]
     },
     "execution_count": 5,
     "metadata": {},
     "output_type": "execute_result"
    }
   ],
   "source": [
    "len(data_)"
   ]
  },
  {
   "cell_type": "code",
   "execution_count": 6,
   "metadata": {},
   "outputs": [
    {
     "name": "stderr",
     "output_type": "stream",
     "text": [
      "100%|██████████| 10307/10307 [00:00<00:00, 316099.32it/s]"
     ]
    },
    {
     "name": "stdout",
     "output_type": "stream",
     "text": [
      "Filtering 5_5-core data\n",
      "Iteration 1\n",
      "Number of removed record: 23227\n",
      "Iteration 2\n",
      "Number of removed record: 1738\n",
      "Iteration 3\n",
      "Number of removed record: 550\n",
      "Iteration 4\n",
      "Number of removed record: 176\n",
      "Iteration 5\n",
      "Number of removed record: 55\n",
      "Iteration 6\n",
      "Number of removed record: 12\n",
      "Iteration 7\n",
      "Number of removed record: 0\n",
      "Save data to \"../data/ciao/multicore_5_5.csv\"\n",
      "10307\n"
     ]
    },
    {
     "name": "stderr",
     "output_type": "stream",
     "text": [
      "\n"
     ]
    }
   ],
   "source": [
    "u_core = 5\n",
    "i_core = 5\n",
    "filtered_data = run_multicore(data_.to_numpy(), '../data/'+data_name, u_core, i_core)\n",
    "filtered_data = np.stack(filtered_data)\n",
    "print(len(filtered_data))"
   ]
  },
  {
   "cell_type": "code",
   "execution_count": 9,
   "metadata": {},
   "outputs": [
    {
     "data": {
      "text/plain": [
       "(814, 813.0, 980, 979.0)"
      ]
     },
     "execution_count": 9,
     "metadata": {},
     "output_type": "execute_result"
    }
   ],
   "source": [
    "len(np.unique(filtered_data[:,0])),max(filtered_data[:,0]),len(np.unique(filtered_data[:,1])),max(filtered_data[:,1])\n",
    "# len(np.unique(filtered_data[:,1])), max(filtered_data[:,1])"
   ]
  },
  {
   "cell_type": "code",
   "execution_count": 10,
   "metadata": {},
   "outputs": [
    {
     "name": "stderr",
     "output_type": "stream",
     "text": [
      "47it [00:00, 464.05it/s]"
     ]
    },
    {
     "name": "stdout",
     "output_type": "stream",
     "text": [
      "total num of users: 814\n",
      "total num of items: 980\n",
      "start generating user history...\n"
     ]
    },
    {
     "name": "stderr",
     "output_type": "stream",
     "text": [
      "814it [00:01, 429.50it/s]\n"
     ]
    }
   ],
   "source": [
    "datapath = '../data/'+data_name+'/multicore_'+str(u_core)+'_'+str(i_core)+'.csv'\n",
    "# print(datapath)\n",
    "dg = DataPreprocessor(data_name, datapath)"
   ]
  },
  {
   "cell_type": "code",
   "execution_count": 11,
   "metadata": {},
   "outputs": [
    {
     "name": "stdout",
     "output_type": "stream",
     "text": [
      "691 691\n"
     ]
    }
   ],
   "source": [
    "train_filename = '../data/'+data_name+'/train_data.csv'\n",
    "test_filename = '../data/'+data_name+'/test_data.csv'\n",
    "dg.write_csv(train_filename, test_filename)"
   ]
  },
  {
   "cell_type": "code",
   "execution_count": 12,
   "metadata": {},
   "outputs": [
    {
     "name": "stdout",
     "output_type": "stream",
     "text": [
      "done!\n"
     ]
    }
   ],
   "source": [
    "get_orginal_data(data_name)"
   ]
  },
  {
   "cell_type": "code",
   "execution_count": 13,
   "metadata": {},
   "outputs": [
    {
     "data": {
      "text/html": [
       "<div>\n",
       "<style scoped>\n",
       "    .dataframe tbody tr th:only-of-type {\n",
       "        vertical-align: middle;\n",
       "    }\n",
       "\n",
       "    .dataframe tbody tr th {\n",
       "        vertical-align: top;\n",
       "    }\n",
       "\n",
       "    .dataframe thead th {\n",
       "        text-align: right;\n",
       "    }\n",
       "</style>\n",
       "<table border=\"1\" class=\"dataframe\">\n",
       "  <thead>\n",
       "    <tr style=\"text-align: right;\">\n",
       "      <th></th>\n",
       "      <th>userId</th>\n",
       "      <th>itemId</th>\n",
       "      <th>rating</th>\n",
       "    </tr>\n",
       "  </thead>\n",
       "  <tbody>\n",
       "    <tr>\n",
       "      <th>0</th>\n",
       "      <td>0</td>\n",
       "      <td>17</td>\n",
       "      <td>5.0</td>\n",
       "    </tr>\n",
       "    <tr>\n",
       "      <th>1</th>\n",
       "      <td>0</td>\n",
       "      <td>16</td>\n",
       "      <td>5.0</td>\n",
       "    </tr>\n",
       "    <tr>\n",
       "      <th>2</th>\n",
       "      <td>0</td>\n",
       "      <td>15</td>\n",
       "      <td>5.0</td>\n",
       "    </tr>\n",
       "    <tr>\n",
       "      <th>3</th>\n",
       "      <td>0</td>\n",
       "      <td>14</td>\n",
       "      <td>5.0</td>\n",
       "    </tr>\n",
       "    <tr>\n",
       "      <th>4</th>\n",
       "      <td>0</td>\n",
       "      <td>13</td>\n",
       "      <td>4.0</td>\n",
       "    </tr>\n",
       "  </tbody>\n",
       "</table>\n",
       "</div>"
      ],
      "text/plain": [
       "   userId  itemId  rating\n",
       "0       0      17     5.0\n",
       "1       0      16     5.0\n",
       "2       0      15     5.0\n",
       "3       0      14     5.0\n",
       "4       0      13     4.0"
      ]
     },
     "execution_count": 13,
     "metadata": {},
     "output_type": "execute_result"
    }
   ],
   "source": [
    "datapath = '../data/'+data_name+'/train_data_org.csv'\n",
    "data = pd.read_csv(datapath,names=['userId', 'itemId', 'rating'],\n",
    "                     dtype={'userId':np.int32,'itemId':np.int32,'rating':np.float64})\n",
    "data.head()"
   ]
  },
  {
   "cell_type": "code",
   "execution_count": 14,
   "metadata": {},
   "outputs": [
    {
     "data": {
      "text/plain": [
       "(array([  0,   1,   2,   3,   4,   5,   6,   7,   8,   9,  10,  11,  12,\n",
       "         13,  14,  15,  16,  17,  18,  19,  20,  21,  22,  23,  24,  25,\n",
       "         26,  27,  28,  29,  30,  31,  32,  33,  34,  35,  36,  37,  38,\n",
       "         39,  40,  41,  42,  43,  44,  45,  46,  47,  48,  49,  50,  51,\n",
       "         52,  53,  54,  55,  56,  57,  58,  59,  60,  61,  62,  63,  64,\n",
       "         65,  66,  67,  68,  69,  70,  71,  72,  73,  74,  75,  76,  77,\n",
       "         78,  79,  80,  81,  82,  83,  84,  85,  86,  87,  88,  89,  90,\n",
       "         91,  92,  93,  94,  95,  96,  97,  98,  99, 100, 101, 102, 103,\n",
       "        104, 105, 106, 107, 108, 109, 110, 111, 112, 113, 114, 115, 116,\n",
       "        117, 118, 119, 120, 121, 122, 123, 124, 125, 126, 127, 128, 129,\n",
       "        130, 131, 132, 133, 134, 135, 136, 137, 138, 139, 140, 141, 142,\n",
       "        143, 144, 145, 146, 147, 148, 149, 150, 151, 152, 153, 154, 155,\n",
       "        156, 157, 158, 159, 160, 161, 162, 163, 164, 165, 166, 167, 168,\n",
       "        169, 170, 171, 172, 173, 174, 175, 176, 177, 178, 179, 180, 181,\n",
       "        182, 183, 184, 185, 186, 187, 188, 189, 190, 191, 192, 193, 194,\n",
       "        195, 196, 197, 198, 199, 200, 201, 202, 203, 204, 205, 206, 207,\n",
       "        208, 209, 210, 211, 212, 213, 214, 215, 216, 217, 218, 219, 220,\n",
       "        221, 222, 223, 224, 225, 226, 227, 228, 229, 230, 231, 232, 233,\n",
       "        234, 235, 236, 237, 238, 239, 240, 241, 242, 243, 244, 245, 246,\n",
       "        247, 248, 249, 250, 251, 252, 254, 255, 256, 257, 258, 259, 260,\n",
       "        261, 262, 263, 264, 265, 266, 267, 268, 269, 270, 271, 272, 273,\n",
       "        274, 275, 276, 277, 278, 279, 280, 281, 282, 283, 284, 285, 286,\n",
       "        287, 288, 289, 290, 291, 292, 293, 294, 295, 296, 297, 298, 299,\n",
       "        300, 301, 302, 303, 304, 305, 306, 307, 308, 309, 310, 311, 312,\n",
       "        313, 314, 315, 316, 317, 318, 319, 320, 321, 322, 323, 324, 325,\n",
       "        326, 327, 328, 329, 330, 331, 332, 333, 334, 335, 336, 337, 338,\n",
       "        339, 340, 341, 342, 343, 344, 345, 346, 347, 348, 349, 350, 351,\n",
       "        352, 353, 354, 355, 356, 357, 358, 359, 360, 361, 362, 363, 364,\n",
       "        365, 366, 367, 368, 369, 370, 371, 372, 373, 374, 375, 376, 377,\n",
       "        378, 379, 380, 381, 382, 383, 384, 385, 386, 387, 388, 389, 390,\n",
       "        391, 392, 393, 394, 395, 396, 397, 398, 399, 400, 401, 402, 403,\n",
       "        404, 405, 406, 407, 408, 409, 410, 411, 412, 413, 414, 415, 416,\n",
       "        417, 418, 419, 420, 421, 422, 423, 424, 425, 426, 427, 428, 429,\n",
       "        430, 431, 432, 433, 434, 435, 436, 437, 438, 439, 440, 441, 442,\n",
       "        443, 444, 445, 446, 447, 448, 449, 450, 451, 452, 453, 454, 455,\n",
       "        456, 457, 458, 459, 460, 461, 462, 463, 464, 465, 466, 467, 468,\n",
       "        469, 470, 471, 472, 473, 474, 475, 476, 477, 478, 479, 480, 481,\n",
       "        482, 483, 484, 485, 486, 487, 488, 489, 490, 491, 492, 493, 494,\n",
       "        495, 496, 497, 498, 499, 500, 501, 502, 503, 504, 505, 506, 507,\n",
       "        508, 509, 510, 511, 512, 513, 514, 515, 516, 517, 518, 519, 520,\n",
       "        521, 522, 523, 524, 525, 526, 527, 528, 529, 530, 531, 532, 533,\n",
       "        534, 535, 536, 537, 538, 539, 540, 541, 542, 543, 544, 545, 546,\n",
       "        547, 548, 549, 550, 551, 552, 553, 554, 555, 556, 557, 558, 559,\n",
       "        560, 561, 562, 563, 564, 565, 566, 567, 568, 569, 570, 571, 572,\n",
       "        573, 574, 575, 576, 577, 578, 579, 580, 581, 582, 583, 584, 585,\n",
       "        586, 587, 588, 589, 590, 591, 592, 593, 594, 595, 596, 597, 598,\n",
       "        599, 600, 601, 602, 603, 604, 605, 606, 607, 608, 609, 610, 611,\n",
       "        612, 613, 614, 615, 616, 617, 618, 619, 620, 621, 622, 623, 624,\n",
       "        625, 626, 627, 628, 629, 630, 631, 632, 633, 634, 635, 636, 637,\n",
       "        638, 639, 640, 641, 642, 643, 644, 645, 646, 647, 648, 649, 650,\n",
       "        651, 652, 653, 654, 655, 656, 657, 658, 659, 660, 661, 662, 663,\n",
       "        664, 665, 666, 667, 668, 669, 670, 671, 672, 673, 674, 675, 676,\n",
       "        677, 678, 679, 680, 681, 682, 683, 684, 685, 686, 687, 688, 689,\n",
       "        690, 691, 692, 693, 694, 695, 696, 697, 698, 699, 700, 701, 702,\n",
       "        703, 704, 705, 706, 707, 708, 709, 710, 711, 712, 713, 714, 715,\n",
       "        716, 717, 718, 719, 720, 721, 722, 723, 724, 725, 726, 727, 728,\n",
       "        729, 730, 731, 732, 733, 734, 735, 736, 737, 738, 739, 740, 741,\n",
       "        742, 743, 744, 745, 746, 747, 748, 749, 750, 751, 752, 753, 754,\n",
       "        755, 756, 757, 758, 759, 760, 761, 762, 763, 764, 765, 766, 767,\n",
       "        768, 769, 770, 771, 772, 773, 774, 775, 776, 777, 778, 779, 780,\n",
       "        781, 782, 783, 784, 785, 786, 787, 788, 789, 790, 791, 792, 793,\n",
       "        794, 795, 796, 797, 798, 799, 800, 801, 802, 803, 804, 805, 806,\n",
       "        807, 808, 809, 810, 811, 812, 813, 814, 815, 816, 817, 818, 819,\n",
       "        820, 821, 822, 823, 824, 825, 826, 827, 828, 829, 830, 831, 832,\n",
       "        833, 834, 835, 836, 837, 838, 839, 840, 841, 842, 843, 844, 845,\n",
       "        846, 847, 848, 849, 850, 851, 852, 853, 854, 855, 856, 857, 858,\n",
       "        859, 860, 861, 862, 863, 864, 865, 866, 867, 868, 869, 870, 871,\n",
       "        872, 873, 874, 875, 876, 877, 878, 879, 880, 881, 882, 883, 884,\n",
       "        885, 886, 887, 888, 889, 890, 891, 892, 893, 894, 895, 896, 897,\n",
       "        898, 899, 900, 901, 902, 903, 904, 905, 906, 907, 908, 909, 910,\n",
       "        911, 912, 913, 914, 915, 916, 917, 918, 919, 920, 921, 922, 923,\n",
       "        924, 925, 926, 927, 928, 929, 930, 931, 932, 933, 934, 935, 936,\n",
       "        937, 938, 939, 940, 941, 942, 943, 944, 945, 946, 947, 948, 949,\n",
       "        950, 951, 952, 953, 954, 955, 956, 957, 958, 959, 960, 961, 962,\n",
       "        963, 964, 965, 966, 967, 968, 969, 970, 971, 972, 973, 974, 975,\n",
       "        976, 977, 978, 979]),\n",
       " array([  3,   5,   6,   6,   9,   8,  71,   9,  40,  12,  13,   5,  46,\n",
       "          4,   7,  11,  12,   7,  10,   3,   4,  11,   6,   5,   5,   7,\n",
       "          5,   5,   5,   7,   6,   3,   5,   4,  11,  10,  12,  14,   5,\n",
       "          5,   9,   5,   4,   5,  11,   5,   3,   1,   5,   4,   3,   6,\n",
       "          4,   4,   7,  20,   5,   4,   6,   8,  17,   4,   8,  15,   4,\n",
       "          6,   6,   5,  26,   8,   5,  31,   7,  13,  30,  70,  13,  15,\n",
       "          6,   3,  65,   5,   4,   8,   2,  13,  47,   4,   5,  10,  20,\n",
       "          3,   4,   2,   4,   7,   6,   4,   9,  12,   3,   2,  10,   2,\n",
       "          5,   3,  23,   8,   6,  10,   7,  15,   5,   4,   3,   3,   4,\n",
       "          7,  11,   3,   9,   4,   9,   4,   8,   8,   4,   6,   4,   3,\n",
       "         10,   7,   8,   4,  11,   4,  10,   2,   7,   6,   7,   5,   6,\n",
       "         17,  16,   9,   5,   8,   4,   6,   4,   5,   9,  15,   7,   1,\n",
       "          3,  11,   6,   5,   5,   5,   3,   2,   4,   6,   4,  10,   4,\n",
       "          8,  48,   9,   4,   3,   5,   3,   4,  11,   5,   5,   7,   4,\n",
       "          3,   6,  16,   4,   5,  22,   3,   3,   8,   7,   4,  34,  21,\n",
       "         17,   7,   5,   7,   7,  25,  13,   6,   7,  10,   4,  20,  44,\n",
       "         16,  39,   5,   6,   9,   5,  30,   7,  11,   5,   7,   3,   5,\n",
       "         10,   5,   3,   7,   4,  10,   3,   9,   4,  11,  32,   9,   4,\n",
       "          4,  12,   6,   3,  16,   6,   7,   6,   5,   9,   4,  14,   9,\n",
       "          7,  17,  12,   4,   4,   3,   5,   5,   5,  12,   4,  10,   5,\n",
       "          6,   5,   5,   4,   4,   5,  13,   6,   4,   6,  11,   3,   7,\n",
       "          3,   2,   5,   4,   6,   2,   4,   5,   5,  13,   5,  12,   7,\n",
       "         11,   6,  13,  24,  13,   3,   5,  14,   5,  14,   5,   8,   4,\n",
       "          2,   7,   5,   5,   2,   4,  18,   5,   2,  17,   5,   6,  11,\n",
       "          8,   7,   4,   5,   7,   3,   3,   4,  10,   5,   6,   8,   3,\n",
       "          6,   7,   7,  10,  11,   7,   6,   5,   6,   7,  20,   4,   4,\n",
       "         22,   5,   3,   4,   8,   4,   5,  37,   4,   8,  31,   1,   6,\n",
       "         17,   7,   3,   3,  13,   4,   5,   4,  10,   8,  31, 138,  12,\n",
       "          3,   4,   7,  14,  10,   1,   3,   3,  11,   6,   5,   7,  24,\n",
       "         15,   5,   4,   5,   6,   6,   6,   7,   4,  10,  25,   4,  15,\n",
       "         12,   6,   5,  13,  17,  14,   6,  12,   5,  18,  10,  15,  19,\n",
       "         17,   8,   5,   7,  16,   8,  41,   8,   8,  12,   5,  12,   8,\n",
       "         13,   7,  17,  18,  33,  22,   8,  12,   8,  12,   7,   4,   6,\n",
       "          4,   7,   4,  14,   9,  26,  77,  12,   4,  29,   4,   2,   9,\n",
       "          2,   4,   7,   6,   7,   6,  10,   4,   6,   6,   5,   4,   4,\n",
       "          5,   6,   4,   4,   4,   7,   6,   4,   6,   5,   6,   6,   5,\n",
       "         10,  68,   2,  16,   4,   7,   8,   3,   5,   4,   3,  14,   3,\n",
       "         17,   7,   6,  10,  12,   4,   5,   7,   7,   9,   3,   4,   3,\n",
       "          2,   8,  54,   7,   9,   8,  29,   5,   9,   8,   9,   5,   8,\n",
       "          3,   3,   4,   4,   3,   4,  27,   4,   6,   6,   6,   9,  12,\n",
       "          6,  12,   4,   2,   2,   4,   5,   3,   4,  11,   2,   5,   3,\n",
       "         10,   4,   6,   5,  25,   8,   5,  13,   5,   6,  12,   3,  19,\n",
       "         24,  32,   4,   5,   2,  16,   3,  21,   6,   8,   3,   5,   2,\n",
       "          6,   4,   9,   5,   6,   9,   8,   5,   3,   4,   6,   4,  15,\n",
       "          6,  10,  20,   4,   5,   4,  11,   3,  34,   4,   8,   5,  10,\n",
       "          8,  12,  21,   4,   3,   8,   3,   2,   2,   2,   2,   9,   4,\n",
       "          6,   8,   8,   3,   4,  17,   9,   4,   7,   6,   4,   6,   6,\n",
       "          5,   4,   2,  12,   4,   5,   3,   6,  20,   8,   5,   7,  10,\n",
       "          6,   5,   6,   6,  23,   4,   6,   2,  17,   6,   5,   4,   4,\n",
       "          6,   1,   5,   8,  24,   5,  24,  16,  17,   7,  12,   7,   4,\n",
       "          6,   8,  10,  19,   9,   4,   5,   3,   1,  10,   7,  14,   4,\n",
       "          7,  23,   5,   4,   5,  14,  22,  11,  22,   5,  11,   5,   5,\n",
       "         15,   3,   5,   5,   7,  11,   4,   4,  15,   4,   4,  11,  12,\n",
       "          3,   6,   5,   5,  15,   6,   5,   5,   6,   5,   5,   6,   6,\n",
       "          5,   9,   3,   4,  10,   6,   3,   8,   4,   9,   4,  12,   5,\n",
       "          6,   3,   9,   5,   6,   5,   3,   5,  10,  12,  13,   2,   7,\n",
       "          4,  10,   8,  21,   2,   6,  14,   4,   4,   5,   5,   5,   4,\n",
       "          5,   4,  11,   3,   6,   7,   2,  12,   4,   5,   4,   5,   4,\n",
       "          3,  15,   7,  18,   3,  11,  30,   6,   4,   7,   6,   4,  10,\n",
       "         21,  24,   6,   9,   5,   9,  13,   6,   8,   2,   4,   5,   3,\n",
       "          7,   5,   1,   8,   8,   8,   3,  19,   8,   5,   5,  22,   2,\n",
       "         10,   4,   4,   4,   9,   5,   4,   8,   6,   8,   5,   5,   4,\n",
       "          4,   4,   4,   3,   3,   6,   6,   3,   5,   7,   8,   4,  15,\n",
       "          5,  10,   5,   6,   4,   6,   6,   2,   7,  16,   7,   5,   8,\n",
       "          5,  15,   2,   6,  10,   5,   7,   7,   5,   5,   5,   8,   6,\n",
       "         23,  12,  11,   5,   9,  15,  11,   5,   5,   3,   6,   4,   6,\n",
       "          7,  10,   3,   5,   3,   5,   4,  15,   6,  15,   5,   8,   5,\n",
       "          7,   5,   5,  18,   4,   6,   8,  18,   7,   6,   8,   5,  13,\n",
       "          5,   5,   4,   4,   4,   5,   9,   7,   2,   5,  14,  14,   8,\n",
       "          4,   4,   5,   4,   3,   6,   5,   5,   7,   5,   7,   4,   5,\n",
       "          5,   4,   6,  10,   5,   8,   5,   7,   9,   4,   8,   5,  10,\n",
       "          3,   5,   4,   3,  10,   6,   5,   5,   4,   5,   5,   4,   9,\n",
       "          9,   6,   5,   5,   8,   3,   8,   6,   5,   5,   3,   7,   7,\n",
       "          7,   5,   4,   6,   4,   5,   7,   5,   7,   4,   4,   8,   5,\n",
       "          6,   3,   4,   6,   8,   6,   4,   5,   5,   5,   5,   7,   4,\n",
       "          6,   6,   3,   4]))"
      ]
     },
     "execution_count": 14,
     "metadata": {},
     "output_type": "execute_result"
    }
   ],
   "source": [
    "items = data['itemId'].to_list()\n",
    "items = np.array(items)\n",
    "idx, nb = np.unique(items, return_counts=True)\n",
    "idx,nb"
   ]
  },
  {
   "cell_type": "code",
   "execution_count": 15,
   "metadata": {},
   "outputs": [
    {
     "name": "stdout",
     "output_type": "stream",
     "text": [
      "pivot point: 10\n"
     ]
    }
   ],
   "source": [
    "pivot_point = 0\n",
    "while np.sum(nb>pivot_point)/dg.nb_item >= 0.2:\n",
    "    pivot_point += 1\n",
    "print('pivot point:', pivot_point)\n",
    "\n",
    "cost_indicator = np.zeros(dg.nb_item)\n",
    "item_exposure = np.zeros(dg.nb_item)\n",
    "for i in range(len(nb)):\n",
    "    item_exposure[idx[i]] = nb[i]\n",
    "    if nb[i] > pivot_point:\n",
    "        cost_indicator[idx[i]] += 1"
   ]
  },
  {
   "cell_type": "code",
   "execution_count": 16,
   "metadata": {},
   "outputs": [],
   "source": [
    "np.save('../data/'+data_name+'/item_cost_indicator_28.npy', cost_indicator)"
   ]
  },
  {
   "cell_type": "code",
   "execution_count": 17,
   "metadata": {},
   "outputs": [],
   "source": [
    "np.save('../data/'+data_name+'/item_exposure_28.npy', item_exposure)"
   ]
  },
  {
   "cell_type": "code",
   "execution_count": 18,
   "metadata": {},
   "outputs": [],
   "source": [
    "pivot_point = 0\n",
    "while np.sum(item_exposure>pivot_point)/len(item_exposure) >= 0.2:\n",
    "    pivot_point += 1\n",
    "\n",
    "cost_indicator = np.zeros(len(item_exposure))\n",
    "for i in range(len(item_exposure)):\n",
    "    if item_exposure[i] > pivot_point:\n",
    "        cost_indicator[i] += 1"
   ]
  },
  {
   "cell_type": "code",
   "execution_count": 19,
   "metadata": {},
   "outputs": [
    {
     "data": {
      "text/plain": [
       "192.0"
      ]
     },
     "execution_count": 19,
     "metadata": {},
     "output_type": "execute_result"
    }
   ],
   "source": [
    "sum(cost_indicator)"
   ]
  },
  {
   "cell_type": "code",
   "execution_count": 20,
   "metadata": {},
   "outputs": [
    {
     "data": {
      "text/plain": [
       "980"
      ]
     },
     "execution_count": 20,
     "metadata": {},
     "output_type": "execute_result"
    }
   ],
   "source": [
    "len(item_exposure)"
   ]
  },
  {
   "cell_type": "code",
   "execution_count": null,
   "metadata": {},
   "outputs": [],
   "source": []
  }
 ],
 "metadata": {
  "kernelspec": {
   "display_name": "pytorch",
   "language": "python",
   "name": "pytorch"
  },
  "language_info": {
   "codemirror_mode": {
    "name": "ipython",
    "version": 3
   },
   "file_extension": ".py",
   "mimetype": "text/x-python",
   "name": "python",
   "nbconvert_exporter": "python",
   "pygments_lexer": "ipython3",
   "version": "3.7.10"
  }
 },
 "nbformat": 4,
 "nbformat_minor": 4
}
