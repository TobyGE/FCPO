{
 "cells": [
  {
   "cell_type": "code",
   "execution_count": 9,
   "metadata": {},
   "outputs": [],
   "source": [
    "import pandas as pd\n",
    "import numpy as np\n",
    "from multicore import *\n",
    "from data_preprocess import DataPreprocessor\n",
    "from data_util import *"
   ]
  },
  {
   "cell_type": "code",
   "execution_count": 10,
   "metadata": {},
   "outputs": [],
   "source": [
    "data_name = 'ciao'\n",
    "u_core = 5\n",
    "i_core = 5"
   ]
  },
  {
   "cell_type": "code",
   "execution_count": 3,
   "metadata": {},
   "outputs": [],
   "source": [
    "if data_name == 'ml-1m':\n",
    "    data_path = '../org_data/'+data_name+'/ratings.dat'\n",
    "    data = pd.read_csv(data_path, sep='::',\n",
    "                names=['userId', 'itemId', 'rating', 'timestamp'],\n",
    "                dtype={'userId':np.int32,'itemId':np.int32,'rating':np.float64,'timestamp':np.int32},\n",
    "                engine='python')\n",
    "if data_name == 'ml-20m':\n",
    "    data_path = '../org_data/'+data_name+'/ratings.csv'\n",
    "    data = pd.read_csv(data_path, sep=',',\n",
    "#                 names=['userId', 'itemId', 'rating', 'timestamp'],\n",
    "#                 dtype={'userId':np.int32,'itemId':np.int32,'rating':np.float64,'timestamp':np.int32},\n",
    "                engine='python')\n",
    "if data_name == 'ml-100k':\n",
    "    data_path = '../org_data/'+data_name+'/u.data'\n",
    "    data = pd.read_csv(data_path, sep='\\t',\n",
    "                names=['userId', 'itemId', 'rating', 'timestamp'],\n",
    "                dtype={'userId':np.int32,'itemId':np.int32,'rating':np.float64,'timestamp':np.int32},\n",
    "                engine='python')\n",
    "if data_name == 'cd':\n",
    "    data_path = '../org_data/'+data_name+'/cd.csv'\n",
    "    data = pd.read_csv(data_path, sep=',',\n",
    "                names=['userId', 'itemId', 'rating', 'timestamp'],\n",
    "                dtype={'userId':np.int32,'itemId':np.int32,'rating':np.float64,'timestamp':np.int32},\n",
    "                engine='python')\n",
    "if data_name == 'ciao' or data_name == 'epinions':\n",
    "    data_path = '../org_data/'+data_name+'/rating_with_timestamp.txt'\n",
    "    data = pd.read_csv(data_path, sep='  ',\n",
    "                names=['userId', 'itemId', 'category','rating', 'helpfulness','timestamp'],\n",
    "                dtype={'userId':np.int32,'category':np.int32,'itemId':np.int32,'rating':np.float64,'helpfulness':np.int32,'timestamp':np.int32},\n",
    "                engine='python')    \n"
   ]
  },
  {
   "cell_type": "code",
   "execution_count": 4,
   "metadata": {},
   "outputs": [],
   "source": [
    "data_ = data[['userId','itemId','rating','timestamp']]"
   ]
  },
  {
   "cell_type": "code",
   "execution_count": 5,
   "metadata": {},
   "outputs": [
    {
     "data": {
      "text/plain": [
       "36065"
      ]
     },
     "execution_count": 5,
     "metadata": {},
     "output_type": "execute_result"
    }
   ],
   "source": [
    "len(data_)"
   ]
  },
  {
   "cell_type": "code",
   "execution_count": 6,
   "metadata": {},
   "outputs": [
    {
     "name": "stderr",
     "output_type": "stream",
     "text": [
      "100%|██████████| 10307/10307 [00:00<00:00, 402329.35it/s]"
     ]
    },
    {
     "name": "stdout",
     "output_type": "stream",
     "text": [
      "Filtering 5_5-core data\n",
      "Iteration 1\n",
      "Number of removed record: 23227\n",
      "Iteration 2\n",
      "Number of removed record: 1738\n",
      "Iteration 3\n",
      "Number of removed record: 550\n",
      "Iteration 4\n",
      "Number of removed record: 176\n",
      "Iteration 5\n",
      "Number of removed record: 55\n",
      "Iteration 6\n",
      "Number of removed record: 12\n",
      "Iteration 7\n",
      "Number of removed record: 0\n",
      "Save data to \"../data/ciao/multicore_5_5.csv\"\n",
      "10307\n"
     ]
    },
    {
     "name": "stderr",
     "output_type": "stream",
     "text": [
      "\n"
     ]
    }
   ],
   "source": [
    "filtered_data = run_multicore(data_.to_numpy(), '../data/'+data_name, u_core, i_core)\n",
    "filtered_data = np.stack(filtered_data)\n",
    "print(len(filtered_data))"
   ]
  },
  {
   "cell_type": "code",
   "execution_count": 7,
   "metadata": {},
   "outputs": [
    {
     "data": {
      "text/plain": [
       "(814, 813.0, 980, 979.0)"
      ]
     },
     "execution_count": 7,
     "metadata": {},
     "output_type": "execute_result"
    }
   ],
   "source": [
    "len(np.unique(filtered_data[:,0])),max(filtered_data[:,0]),len(np.unique(filtered_data[:,1])),max(filtered_data[:,1])\n",
    "# len(np.unique(filtered_data[:,1])), max(filtered_data[:,1])"
   ]
  },
  {
   "cell_type": "code",
   "execution_count": 11,
   "metadata": {},
   "outputs": [
    {
     "name": "stderr",
     "output_type": "stream",
     "text": [
      "31it [00:00, 302.43it/s]"
     ]
    },
    {
     "name": "stdout",
     "output_type": "stream",
     "text": [
      "total num of users: 814\n",
      "total num of items: 980\n",
      "start generating user history...\n"
     ]
    },
    {
     "name": "stderr",
     "output_type": "stream",
     "text": [
      "814it [00:01, 414.39it/s]\n"
     ]
    }
   ],
   "source": [
    "datapath = '../data/'+data_name+'/multicore_'+str(u_core)+'_'+str(i_core)+'.csv'\n",
    "# print(datapath)\n",
    "dg = DataPreprocessor(data_name, datapath)"
   ]
  },
  {
   "cell_type": "code",
   "execution_count": 12,
   "metadata": {},
   "outputs": [
    {
     "name": "stdout",
     "output_type": "stream",
     "text": [
      "691 691\n"
     ]
    }
   ],
   "source": [
    "train_filename = '../data/'+data_name+'/train_data.csv'\n",
    "test_filename = '../data/'+data_name+'/test_data.csv'\n",
    "dg.write_csv(train_filename, test_filename)"
   ]
  },
  {
   "cell_type": "code",
   "execution_count": 13,
   "metadata": {},
   "outputs": [
    {
     "name": "stdout",
     "output_type": "stream",
     "text": [
      "done!\n"
     ]
    }
   ],
   "source": [
    "get_orginal_data(data_name)"
   ]
  },
  {
   "cell_type": "code",
   "execution_count": 14,
   "metadata": {},
   "outputs": [
    {
     "data": {
      "text/html": [
       "<div>\n",
       "<style scoped>\n",
       "    .dataframe tbody tr th:only-of-type {\n",
       "        vertical-align: middle;\n",
       "    }\n",
       "\n",
       "    .dataframe tbody tr th {\n",
       "        vertical-align: top;\n",
       "    }\n",
       "\n",
       "    .dataframe thead th {\n",
       "        text-align: right;\n",
       "    }\n",
       "</style>\n",
       "<table border=\"1\" class=\"dataframe\">\n",
       "  <thead>\n",
       "    <tr style=\"text-align: right;\">\n",
       "      <th></th>\n",
       "      <th>userId</th>\n",
       "      <th>itemId</th>\n",
       "      <th>rating</th>\n",
       "    </tr>\n",
       "  </thead>\n",
       "  <tbody>\n",
       "    <tr>\n",
       "      <th>0</th>\n",
       "      <td>0</td>\n",
       "      <td>12</td>\n",
       "      <td>5.0</td>\n",
       "    </tr>\n",
       "    <tr>\n",
       "      <th>1</th>\n",
       "      <td>0</td>\n",
       "      <td>11</td>\n",
       "      <td>4.0</td>\n",
       "    </tr>\n",
       "    <tr>\n",
       "      <th>2</th>\n",
       "      <td>0</td>\n",
       "      <td>10</td>\n",
       "      <td>4.0</td>\n",
       "    </tr>\n",
       "    <tr>\n",
       "      <th>3</th>\n",
       "      <td>0</td>\n",
       "      <td>9</td>\n",
       "      <td>5.0</td>\n",
       "    </tr>\n",
       "    <tr>\n",
       "      <th>4</th>\n",
       "      <td>0</td>\n",
       "      <td>8</td>\n",
       "      <td>5.0</td>\n",
       "    </tr>\n",
       "  </tbody>\n",
       "</table>\n",
       "</div>"
      ],
      "text/plain": [
       "   userId  itemId  rating\n",
       "0       0      12     5.0\n",
       "1       0      11     4.0\n",
       "2       0      10     4.0\n",
       "3       0       9     5.0\n",
       "4       0       8     5.0"
      ]
     },
     "execution_count": 14,
     "metadata": {},
     "output_type": "execute_result"
    }
   ],
   "source": [
    "datapath = '../data/'+data_name+'/train_data_org.csv'\n",
    "data = pd.read_csv(datapath,names=['userId', 'itemId', 'rating'],\n",
    "                     dtype={'userId':np.int32,'itemId':np.int32,'rating':np.float64})\n",
    "data.head()"
   ]
  },
  {
   "cell_type": "code",
   "execution_count": 16,
   "metadata": {},
   "outputs": [],
   "source": [
    "items = data['itemId'].to_list()\n",
    "items = np.array(items)\n",
    "idx, nb = np.unique(items, return_counts=True)\n",
    "# idx,nb"
   ]
  },
  {
   "cell_type": "code",
   "execution_count": null,
   "metadata": {},
   "outputs": [],
   "source": [
    "pivot_point = 0\n",
    "while np.sum(nb>pivot_point)/dg.nb_item >= 0.2:\n",
    "    pivot_point += 1\n",
    "print('pivot point:', pivot_point)\n",
    "\n",
    "cost_indicator = np.zeros(dg.nb_item)\n",
    "item_exposure = np.zeros(dg.nb_item)\n",
    "for i in range(len(nb)):\n",
    "    item_exposure[idx[i]] = nb[i]\n",
    "    if nb[i] > pivot_point:\n",
    "        cost_indicator[idx[i]] += 1"
   ]
  },
  {
   "cell_type": "code",
   "execution_count": null,
   "metadata": {},
   "outputs": [],
   "source": [
    "np.save('../data/'+data_name+'/item_cost_indicator_28.npy', cost_indicator)"
   ]
  },
  {
   "cell_type": "code",
   "execution_count": null,
   "metadata": {},
   "outputs": [],
   "source": [
    "np.save('../data/'+data_name+'/item_exposure_28.npy', item_exposure)"
   ]
  },
  {
   "cell_type": "code",
   "execution_count": null,
   "metadata": {},
   "outputs": [],
   "source": [
    "pivot_point = 0\n",
    "while np.sum(item_exposure>pivot_point)/len(item_exposure) >= 0.2:\n",
    "    pivot_point += 1\n",
    "\n",
    "cost_indicator = np.zeros(len(item_exposure))\n",
    "for i in range(len(item_exposure)):\n",
    "    if item_exposure[i] > pivot_point:\n",
    "        cost_indicator[i] += 1"
   ]
  },
  {
   "cell_type": "code",
   "execution_count": null,
   "metadata": {},
   "outputs": [],
   "source": [
    "sum(cost_indicator)"
   ]
  },
  {
   "cell_type": "code",
   "execution_count": null,
   "metadata": {},
   "outputs": [],
   "source": [
    "len(item_exposure)"
   ]
  },
  {
   "cell_type": "code",
   "execution_count": null,
   "metadata": {},
   "outputs": [],
   "source": []
  }
 ],
 "metadata": {
  "kernelspec": {
   "display_name": "pytorch",
   "language": "python",
   "name": "pytorch"
  },
  "language_info": {
   "codemirror_mode": {
    "name": "ipython",
    "version": 3
   },
   "file_extension": ".py",
   "mimetype": "text/x-python",
   "name": "python",
   "nbconvert_exporter": "python",
   "pygments_lexer": "ipython3",
   "version": "3.7.10"
  }
 },
 "nbformat": 4,
 "nbformat_minor": 4
}
